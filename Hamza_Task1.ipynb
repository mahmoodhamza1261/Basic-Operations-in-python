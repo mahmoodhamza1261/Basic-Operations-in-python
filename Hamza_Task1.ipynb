{
  "nbformat": 4,
  "nbformat_minor": 0,
  "metadata": {
    "colab": {
      "provenance": []
    },
    "kernelspec": {
      "name": "python3",
      "display_name": "Python 3"
    },
    "language_info": {
      "name": "python"
    }
  },
  "cells": [
    {
      "cell_type": "markdown",
      "source": [
        "#1. Task: Assign the following values to variables and print them. Then, identify and print\n",
        "the data type of each variable.\n",
        "\n",
        "o age with a value of 21 (integer)\n",
        "\n",
        "o height with a value of 5.9 (float)\n",
        "\n",
        "o name with a value of &quot;Alice&quot; (string)\n",
        "\n",
        "o is_student with a value of False (boolean)"
      ],
      "metadata": {
        "id": "5vtK9ATxh36f"
      }
    },
    {
      "cell_type": "code",
      "source": [
        "age=21\n",
        "print(type(age))\n",
        "height=5.9\n",
        "print(type(height))\n",
        "name=\"Alice\"\n",
        "print(type(name))\n",
        "is_student=False\n",
        "print(type(is_student))"
      ],
      "metadata": {
        "colab": {
          "base_uri": "https://localhost:8080/"
        },
        "id": "AGeESca8iAR_",
        "outputId": "3035cb50-acc2-46c1-d3a6-e0938180f5c8"
      },
      "execution_count": 33,
      "outputs": [
        {
          "output_type": "stream",
          "name": "stdout",
          "text": [
            "<class 'int'>\n",
            "<class 'float'>\n",
            "<class 'str'>\n",
            "<class 'bool'>\n"
          ]
        }
      ]
    },
    {
      "cell_type": "markdown",
      "source": [
        "#Lab Task 2: Variable Operations\n",
        "2. Task: Create the following variables with given values. Perform the specified operations\n",
        "and print the results:\n",
        "\n",
        "o x with a value of 10 (integer)\n",
        "\n",
        "o y with a value of 3 (integer)\n",
        "\n",
        "o a with a value of 4.5 (float)\n",
        "\n",
        "o b with a value of 2.5 (float)\n",
        "\n",
        "o Calculate and print the sum,\n",
        "difference, product, and quotient of x and y.\n",
        "\n",
        "o Calculate and print the average of a and b."
      ],
      "metadata": {
        "id": "8QiEl9ZujWDq"
      }
    },
    {
      "cell_type": "code",
      "source": [
        "x=10\n",
        "print(x)\n",
        "y=3\n",
        "print(y)\n",
        "a=4.5\n",
        "print(a)\n",
        "b=2.5\n",
        "print(b)\n",
        "print(x+y)\n",
        "print(x-y)\n",
        "print(x*y)\n",
        "print(x/y)\n",
        "print((a+b)/2)"
      ],
      "metadata": {
        "colab": {
          "base_uri": "https://localhost:8080/"
        },
        "id": "C8Ez9aPxjnVr",
        "outputId": "4e298b88-e4d8-42ac-d3a2-d0f6dcdaacc6"
      },
      "execution_count": 34,
      "outputs": [
        {
          "output_type": "stream",
          "name": "stdout",
          "text": [
            "10\n",
            "3\n",
            "4.5\n",
            "2.5\n",
            "13\n",
            "7\n",
            "30\n",
            "3.3333333333333335\n",
            "3.5\n"
          ]
        }
      ]
    },
    {
      "cell_type": "markdown",
      "source": [
        "#Lab Task 3: String Operations\n",
        "3. Task: Given the following variables, perform string operations and print the results:\n",
        "\n",
        "o first_name with a value of &quot;John&quot;\n",
        "\n",
        "o last_name with a value of &quot;Doe&quot;\n",
        "\n",
        "o Concatenate first_name and last_name with a space in between and print the\n",
        "full name.\n",
        "\n",
        "o Print the length of full_name.\n",
        "\n",
        "o Convert full_name to uppercase and print it."
      ],
      "metadata": {
        "id": "LZyHSh0kkIhf"
      }
    },
    {
      "cell_type": "code",
      "source": [
        "first_name=\"John\"\n",
        "print(first_name)\n",
        "last_name=\"Doe\"\n",
        "print(last_name)\n",
        "full_name=first_name+\" \"+last_name\n",
        "print(full_name)\n",
        "print(len(full_name))\n",
        "print(full_name.upper())"
      ],
      "metadata": {
        "colab": {
          "base_uri": "https://localhost:8080/"
        },
        "id": "h-mbSoZMkUtj",
        "outputId": "6449880b-5bc9-4c96-cc72-87517f44ce8e"
      },
      "execution_count": 35,
      "outputs": [
        {
          "output_type": "stream",
          "name": "stdout",
          "text": [
            "John\n",
            "Doe\n",
            "John Doe\n",
            "8\n",
            "JOHN DOE\n"
          ]
        }
      ]
    },
    {
      "cell_type": "markdown",
      "source": [
        "#Lab Task 4: Boolean Logic\n",
        "4. Task: Assign values to the following variables and evaluate the Boolean expressions.\n",
        "Print the results.\n",
        "\n",
        "o is_raining with a value of True\n",
        "\n",
        "o is_sunny with a value of False\n",
        "\n",
        "o temperature with a value of 25 (integer)\n",
        "\n",
        "o Check and print whether is_raining is True and is_sunny is False.\n",
        "\n",
        "o Check and print whether the temperature is greater than 20 and is_sunny is True."
      ],
      "metadata": {
        "id": "jz9UaDdck2A8"
      }
    },
    {
      "cell_type": "code",
      "source": [
        "is_raining=True\n",
        "print(is_raining)\n",
        "is_sunny=False\n",
        "print(is_sunny)\n",
        "temperature=25\n",
        "print(is_raining and is_sunny)\n",
        "print(temperature>20 and is_sunny)"
      ],
      "metadata": {
        "colab": {
          "base_uri": "https://localhost:8080/"
        },
        "id": "tQ8dAbmtk7VE",
        "outputId": "ea74ef24-1f6e-46d6-fb57-2f7d8649e654"
      },
      "execution_count": 36,
      "outputs": [
        {
          "output_type": "stream",
          "name": "stdout",
          "text": [
            "True\n",
            "False\n",
            "False\n",
            "False\n"
          ]
        }
      ]
    },
    {
      "cell_type": "markdown",
      "source": [
        "#Lab Task 5: Type Conversion\n",
        "3. Task: Convert the following variables into different data types and print the results.\n",
        "\n",
        "o Convert an integer to a float.\n",
        "\n",
        "o Convert a float to an integer.\n",
        "\n",
        "o Convert a string representing a number to an integer.\n",
        "\n",
        "o Convert a string representing a number to a float."
      ],
      "metadata": {
        "id": "fIYIvOlBle9E"
      }
    },
    {
      "cell_type": "code",
      "source": [
        "a= 10\n",
        "print(type(a))\n",
        "a=float(a)\n",
        "print(type(a))\n",
        "b= 10.5\n",
        "print(type(b))\n",
        "b=int(b)\n",
        "print(type(b))\n",
        "c=\"25\"\n",
        "print(type(c))\n",
        "c=int(c)\n",
        "print(type(c))\n",
        "d=\"10.5\"\n",
        "print(type(d))\n",
        "d=float(d)\n",
        "print(type(d))"
      ],
      "metadata": {
        "colab": {
          "base_uri": "https://localhost:8080/"
        },
        "id": "dK2s81VwljBH",
        "outputId": "e738f815-15dd-45ff-c450-0ca9d21d3a60"
      },
      "execution_count": 37,
      "outputs": [
        {
          "output_type": "stream",
          "name": "stdout",
          "text": [
            "<class 'int'>\n",
            "<class 'float'>\n",
            "<class 'float'>\n",
            "<class 'int'>\n",
            "<class 'str'>\n",
            "<class 'int'>\n",
            "<class 'str'>\n",
            "<class 'float'>\n"
          ]
        }
      ]
    },
    {
      "cell_type": "markdown",
      "source": [
        "#Lab Task 6: Type Checking\n",
        "2. Task: Write a program that takes a variable and prints out its type using the type()\n",
        "function.\n",
        "\n",
        "var = 42\n",
        "\n",
        "var = 3.14\n",
        "\n",
        "var = &quot;Data Science\n",
        "\n",
        "var = False print(type(var))"
      ],
      "metadata": {
        "id": "CIT8qjCfl-Bn"
      }
    },
    {
      "cell_type": "code",
      "source": [
        "var=42\n",
        "print(type(var))\n",
        "var=3.14\n",
        "print(type(var))\n",
        "var=\"Data Science\"\n",
        "print(type(var))\n",
        "var=False\n",
        "print(type(var))"
      ],
      "metadata": {
        "colab": {
          "base_uri": "https://localhost:8080/"
        },
        "id": "RMPXQtx7mF47",
        "outputId": "d03cc2fe-40c8-4353-9816-271a9d466cd3"
      },
      "execution_count": 38,
      "outputs": [
        {
          "output_type": "stream",
          "name": "stdout",
          "text": [
            "<class 'int'>\n",
            "<class 'float'>\n",
            "<class 'str'>\n",
            "<class 'bool'>\n"
          ]
        }
      ]
    },
    {
      "cell_type": "markdown",
      "source": [
        "#Lab Task 7: Basic Variable Assignment\n",
        "1. Task: Assign the following values to variables and print them.\n",
        "\n",
        "o An integer value of 25.\n",
        "\n",
        "o A float value of 3.14.\n",
        "\n",
        "o A string value &quot;Hello, Python!&quot;.\n",
        "\n",
        "o A boolean value True."
      ],
      "metadata": {
        "id": "82ebM0b8mZhK"
      }
    },
    {
      "cell_type": "code",
      "source": [
        "a=25\n",
        "print(a)\n",
        "b=3.14\n",
        "print(b)\n",
        "c=\"Hello, Python!\"\n",
        "print(c)\n",
        "d=True\n",
        "print(d)"
      ],
      "metadata": {
        "colab": {
          "base_uri": "https://localhost:8080/"
        },
        "id": "x0yMDExJmgBG",
        "outputId": "25d4c725-56a5-42fa-9335-a388d8ef5a38"
      },
      "execution_count": 39,
      "outputs": [
        {
          "output_type": "stream",
          "name": "stdout",
          "text": [
            "25\n",
            "3.14\n",
            "Hello, Python!\n",
            "True\n"
          ]
        }
      ]
    }
  ]
}